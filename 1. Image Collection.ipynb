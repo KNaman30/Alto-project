{
 "cells": [
  {
   "cell_type": "markdown",
   "metadata": {},
   "source": [
    "# 1. Import Dependencies"
   ]
  },
  {
   "cell_type": "code",
   "execution_count": 1,
   "metadata": {},
   "outputs": [
    {
     "name": "stdout",
     "output_type": "stream",
     "text": [
      "Defaulting to user installation because normal site-packages is not writeable\n",
      "Requirement already satisfied: opencv-python in c:\\programdata\\anaconda3\\lib\\site-packages (4.8.0.74)\n",
      "Requirement already satisfied: numpy>=1.21.2 in c:\\programdata\\anaconda3\\lib\\site-packages (from opencv-python) (1.23.5)\n"
     ]
    }
   ],
   "source": [
    "!pip install opencv-python"
   ]
  },
  {
   "cell_type": "code",
   "execution_count": 2,
   "metadata": {},
   "outputs": [],
   "source": [
    "# Import opencv\n",
    "import cv2 \n",
    "\n",
    "# Import uuid\n",
    "import uuid\n",
    "\n",
    "# Import Operating System\n",
    "import os\n",
    "\n",
    "# Import time\n",
    "import time"
   ]
  },
  {
   "cell_type": "markdown",
   "metadata": {},
   "source": [
    "# 2. Define Images to Collect"
   ]
  },
  {
   "cell_type": "code",
   "execution_count": 5,
   "metadata": {},
   "outputs": [],
   "source": [
    "labels = ['thumbsup', 'thumbsdown', 'thankyou', 'livelong']\n",
    "number_imgs = 5"
   ]
  },
  {
   "cell_type": "markdown",
   "metadata": {},
   "source": [
    "# 3. Setup Folders "
   ]
  },
  {
   "cell_type": "code",
   "execution_count": 6,
   "metadata": {},
   "outputs": [],
   "source": [
    "IMAGES_PATH = os.path.join('Tensorflow', 'workspace', 'images', 'collectedimages')"
   ]
  },
  {
   "cell_type": "code",
   "execution_count": 7,
   "metadata": {},
   "outputs": [],
   "source": [
    "if not os.path.exists(IMAGES_PATH):\n",
    "    if os.name == 'posix':\n",
    "        !mkdir -p {IMAGES_PATH}\n",
    "    if os.name == 'nt':\n",
    "         !mkdir {IMAGES_PATH}\n",
    "for label in labels:\n",
    "    path = os.path.join(IMAGES_PATH, label)\n",
    "    if not os.path.exists(path):\n",
    "        !mkdir {path}"
   ]
  },
  {
   "cell_type": "markdown",
   "metadata": {},
   "source": [
    "# 4. Capture Images"
   ]
  },
  {
   "cell_type": "code",
   "execution_count": 9,
   "metadata": {},
   "outputs": [
    {
     "name": "stdout",
     "output_type": "stream",
     "text": [
      "Collecting images for thumbsup\n",
      "Collecting image 0\n",
      "Collecting image 1\n",
      "Collecting image 2\n",
      "Collecting image 3\n",
      "Collecting image 4\n",
      "Collecting images for thumbsdown\n",
      "Collecting image 0\n",
      "Collecting image 1\n",
      "Collecting image 2\n",
      "Collecting image 3\n",
      "Collecting image 4\n",
      "Collecting images for thankyou\n",
      "Collecting image 0\n",
      "Collecting image 1\n",
      "Collecting image 2\n",
      "Collecting image 3\n",
      "Collecting image 4\n",
      "Collecting images for livelong\n",
      "Collecting image 0\n",
      "Collecting image 1\n",
      "Collecting image 2\n",
      "Collecting image 3\n",
      "Collecting image 4\n"
     ]
    }
   ],
   "source": [
    "for label in labels:\n",
    "    cap = cv2.VideoCapture(0)\n",
    "    print('Collecting images for {}'.format(label))\n",
    "    time.sleep(5)\n",
    "    for imgnum in range(number_imgs):\n",
    "        print('Collecting image {}'.format(imgnum))\n",
    "        ret, frame = cap.read()\n",
    "        imgname = os.path.join(IMAGES_PATH,label,label+'.'+'{}.jpg'.format(str(uuid.uuid1())))\n",
    "        cv2.imwrite(imgname, frame)\n",
    "        cv2.imshow('frame', frame)\n",
    "        time.sleep(2)\n",
    "\n",
    "        if cv2.waitKey(1) & 0xFF == ord('q'):\n",
    "            break\n",
    "cap.release()\n",
    "cv2.destroyAllWindows()"
   ]
  },
  {
   "cell_type": "markdown",
   "metadata": {},
   "source": [
    "# 5. Image Labelling"
   ]
  },
  {
   "cell_type": "code",
   "execution_count": 3,
   "metadata": {},
   "outputs": [
    {
     "name": "stdout",
     "output_type": "stream",
     "text": [
      "Defaulting to user installation because normal site-packages is not writeable\n",
      "Requirement already satisfied: pyqt5 in c:\\programdata\\anaconda3\\lib\\site-packages (5.15.9)\n",
      "Requirement already satisfied: lxml in c:\\programdata\\anaconda3\\lib\\site-packages (4.9.2)\n",
      "Collecting lxml\n",
      "  Using cached lxml-4.9.3-cp310-cp310-win_amd64.whl (3.8 MB)\n",
      "Requirement already satisfied: PyQt5-Qt5>=5.15.2 in c:\\programdata\\anaconda3\\lib\\site-packages (from pyqt5) (5.15.2)\n",
      "Requirement already satisfied: PyQt5-sip<13,>=12.11 in c:\\programdata\\anaconda3\\lib\\site-packages (from pyqt5) (12.11.0)\n",
      "Installing collected packages: lxml\n",
      "Successfully installed lxml-4.9.3\n"
     ]
    }
   ],
   "source": [
    "!pip install --upgrade pyqt5 lxml"
   ]
  },
  {
   "cell_type": "code",
   "execution_count": 5,
   "metadata": {},
   "outputs": [],
   "source": [
    "LABELIMG_PATH = os.path.join('Tensorflow', 'labelimg')"
   ]
  },
  {
   "cell_type": "code",
   "execution_count": 6,
   "metadata": {},
   "outputs": [],
   "source": [
    "if not os.path.exists(LABELIMG_PATH):\n",
    "    !mkdir {LABELIMG_PATH}\n",
    "    !git clone https://github.com/tzutalin/labelImg {LABELIMG_PATH}"
   ]
  },
  {
   "cell_type": "code",
   "execution_count": 7,
   "metadata": {},
   "outputs": [],
   "source": [
    "if os.name == 'posix':\n",
    "    !cd {LABELIMG_PATH} && !make qt5py3\n",
    "if os.name =='nt':\n",
    "    !cd {LABELIMG_PATH} && pyrcc5 -o libs/resources.py resources.qrc"
   ]
  },
  {
   "cell_type": "code",
   "execution_count": 8,
   "metadata": {},
   "outputs": [
    {
     "name": "stdout",
     "output_type": "stream",
     "text": [
      "Image:D:\\Bad Almond-20230713T070021Z-001\\Bad Almond\\IMG20230713105548.jpg -> Annotation:D:/Bad Almond-20230713T070021Z-001\\IMG20230713105548.xml\n",
      "Image:D:\\Bad Almond-20230713T070021Z-001\\Bad Almond\\IMG20230713105552.jpg -> Annotation:D:/Bad Almond-20230713T070021Z-001\\IMG20230713105552.xml\n",
      "Image:D:\\Bad Almond-20230713T070021Z-001\\Bad Almond\\IMG20230713105555.jpg -> Annotation:D:/Bad Almond-20230713T070021Z-001\\IMG20230713105555.xml\n",
      "Image:D:\\Bad Almond-20230713T070021Z-001\\Bad Almond\\IMG20230713105558.jpg -> Annotation:D:/Bad Almond-20230713T070021Z-001\\IMG20230713105558.xml\n",
      "Image:D:\\Bad Almond-20230713T070021Z-001\\Bad Almond\\IMG20230713105600.jpg -> Annotation:D:/Bad Almond-20230713T070021Z-001\\IMG20230713105600.xml\n",
      "Image:D:\\Bad Almond-20230713T070021Z-001\\Bad Almond\\IMG20230713105603.jpg -> Annotation:D:/Bad Almond-20230713T070021Z-001\\IMG20230713105603.xml\n",
      "Image:D:\\Bad Almond-20230713T070021Z-001\\Bad Almond\\IMG20230713105605.jpg -> Annotation:D:/Bad Almond-20230713T070021Z-001\\IMG20230713105605.xml\n",
      "Image:D:\\Bad Almond-20230713T070021Z-001\\Bad Almond\\IMG20230713105609.jpg -> Annotation:D:/Bad Almond-20230713T070021Z-001\\IMG20230713105609.xml\n",
      "Image:D:\\Bad Almond-20230713T070021Z-001\\Bad Almond\\IMG20230713105611.jpg -> Annotation:D:/Bad Almond-20230713T070021Z-001\\IMG20230713105611.xml\n",
      "Image:D:\\Bad Almond-20230713T070021Z-001\\Bad Almond\\IMG20230713105614.jpg -> Annotation:D:/Bad Almond-20230713T070021Z-001\\IMG20230713105614.xml\n",
      "Image:D:\\Bad Almond-20230713T070021Z-001\\Bad Almond\\IMG20230713105616.jpg -> Annotation:D:/Bad Almond-20230713T070021Z-001\\IMG20230713105616.xml\n",
      "Image:D:\\Bad Almond-20230713T070021Z-001\\Bad Almond\\IMG20230713105627.jpg -> Annotation:D:/Bad Almond-20230713T070021Z-001\\IMG20230713105627.xml\n",
      "Image:D:\\Bad Almond-20230713T070021Z-001\\Bad Almond\\IMG20230713105630.jpg -> Annotation:D:/Bad Almond-20230713T070021Z-001\\IMG20230713105630.xml\n",
      "Image:D:\\Bad Almond-20230713T070021Z-001\\Bad Almond\\IMG20230713105633.jpg -> Annotation:D:/Bad Almond-20230713T070021Z-001\\IMG20230713105633.xml\n",
      "Image:D:\\Bad Almond-20230713T070021Z-001\\Bad Almond\\IMG20230713105635.jpg -> Annotation:D:/Bad Almond-20230713T070021Z-001\\IMG20230713105635.xml\n",
      "Image:D:\\Bad Almond-20230713T070021Z-001\\Bad Almond\\IMG20230713105637.jpg -> Annotation:D:/Bad Almond-20230713T070021Z-001\\IMG20230713105637.xml\n",
      "Image:D:\\Bad Almond-20230713T070021Z-001\\Bad Almond\\IMG20230713105641.jpg -> Annotation:D:/Bad Almond-20230713T070021Z-001\\IMG20230713105641.xml\n",
      "Image:D:\\Bad Almond-20230713T070021Z-001\\Bad Almond\\IMG20230713105646.jpg -> Annotation:D:/Bad Almond-20230713T070021Z-001\\IMG20230713105646.xml\n",
      "Image:D:\\Bad Almond-20230713T070021Z-001\\Bad Almond\\IMG20230713105650.jpg -> Annotation:D:/Bad Almond-20230713T070021Z-001\\IMG20230713105650.xml\n",
      "Image:D:\\Bad Almond-20230713T070021Z-001\\Bad Almond\\IMG20230713105729.jpg -> Annotation:D:/Bad Almond-20230713T070021Z-001\\IMG20230713105729.xml\n",
      "Image:D:\\Bad Almond-20230713T070021Z-001\\Bad Almond\\IMG20230713105736.jpg -> Annotation:D:/Bad Almond-20230713T070021Z-001\\IMG20230713105736.xml\n",
      "Image:D:\\Bad Almond-20230713T070021Z-001\\Bad Almond\\IMG20230713105739.jpg -> Annotation:D:/Bad Almond-20230713T070021Z-001\\IMG20230713105739.xml\n",
      "Image:D:\\Bad Almond-20230713T070021Z-001\\Bad Almond\\IMG20230713105743.jpg -> Annotation:D:/Bad Almond-20230713T070021Z-001\\IMG20230713105743.xml\n",
      "Image:D:\\Bad Almond-20230713T070021Z-001\\Bad Almond\\IMG20230713105746.jpg -> Annotation:D:/Bad Almond-20230713T070021Z-001\\IMG20230713105746.xml\n",
      "Image:D:\\Bad Almond-20230713T070021Z-001\\Bad Almond\\IMG20230713105752.jpg -> Annotation:D:/Bad Almond-20230713T070021Z-001\\IMG20230713105752.xml\n",
      "Image:D:\\Bad Almond-20230713T070021Z-001\\Bad Almond\\IMG20230713105756.jpg -> Annotation:D:/Bad Almond-20230713T070021Z-001\\IMG20230713105756.xml\n",
      "Image:D:\\Bad Almond-20230713T070021Z-001\\Bad Almond\\IMG20230713105759.jpg -> Annotation:D:/Bad Almond-20230713T070021Z-001\\IMG20230713105759.xml\n",
      "Image:D:\\Bad Almond-20230713T070021Z-001\\Bad Almond\\IMG20230713105802.jpg -> Annotation:D:/Bad Almond-20230713T070021Z-001\\IMG20230713105802.xml\n",
      "Image:D:\\Bad Almond-20230713T070021Z-001\\Bad Almond\\IMG20230713105805.jpg -> Annotation:D:/Bad Almond-20230713T070021Z-001\\IMG20230713105805.xml\n",
      "Image:D:\\Bad Almond-20230713T070021Z-001\\Bad Almond\\IMG20230713105812.jpg -> Annotation:D:/Bad Almond-20230713T070021Z-001\\IMG20230713105812.xml\n",
      "Image:D:\\Bad Almond-20230713T070021Z-001\\Bad Almond\\IMG20230713105815.jpg -> Annotation:D:/Bad Almond-20230713T070021Z-001\\IMG20230713105815.xml\n",
      "Image:D:\\Bad Almond-20230713T070021Z-001\\Bad Almond\\IMG20230713105819.jpg -> Annotation:D:/Bad Almond-20230713T070021Z-001\\IMG20230713105819.xml\n",
      "Image:D:\\Bad Almond-20230713T070021Z-001\\Bad Almond\\IMG20230713105822.jpg -> Annotation:D:/Bad Almond-20230713T070021Z-001\\IMG20230713105822.xml\n",
      "Image:D:\\Bad Almond-20230713T070021Z-001\\Bad Almond\\IMG20230713105829.jpg -> Annotation:D:/Bad Almond-20230713T070021Z-001\\IMG20230713105829.xml\n",
      "Image:D:\\Bad Almond-20230713T070021Z-001\\Bad Almond\\IMG20230713105834.jpg -> Annotation:D:/Bad Almond-20230713T070021Z-001\\IMG20230713105834.xml\n",
      "Image:D:\\Bad Almond-20230713T070021Z-001\\Bad Almond\\IMG20230713105837.jpg -> Annotation:D:/Bad Almond-20230713T070021Z-001\\IMG20230713105837.xml\n",
      "Image:D:\\Bad Almond-20230713T070021Z-001\\Bad Almond\\IMG20230713105840.jpg -> Annotation:D:/Bad Almond-20230713T070021Z-001\\IMG20230713105840.xml\n",
      "Image:D:\\Bad Almond-20230713T070021Z-001\\Bad Almond\\IMG20230713105843.jpg -> Annotation:D:/Bad Almond-20230713T070021Z-001\\IMG20230713105843.xml\n",
      "Image:D:\\Bad Almond-20230713T070021Z-001\\Bad Almond\\IMG20230713105845.jpg -> Annotation:D:/Bad Almond-20230713T070021Z-001\\IMG20230713105845.xml\n",
      "Image:D:\\Bad Almond-20230713T070021Z-001\\Bad Almond\\IMG20230713105848.jpg -> Annotation:D:/Bad Almond-20230713T070021Z-001\\IMG20230713105848.xml\n",
      "Image:D:\\Bad Almond-20230713T070021Z-001\\Bad Almond\\IMG20230713105856.jpg -> Annotation:D:/Bad Almond-20230713T070021Z-001\\IMG20230713105856.xml\n",
      "Image:D:\\Bad Almond-20230713T070021Z-001\\Bad Almond\\IMG20230713105859.jpg -> Annotation:D:/Bad Almond-20230713T070021Z-001\\IMG20230713105859.xml\n",
      "Image:D:\\Bad Almond-20230713T070021Z-001\\Bad Almond\\IMG20230713105902.jpg -> Annotation:D:/Bad Almond-20230713T070021Z-001\\IMG20230713105902.xml\n",
      "Image:D:\\Bad Almond-20230713T070021Z-001\\Bad Almond\\IMG20230713105905_BURST000_COVER.jpg -> Annotation:D:/Bad Almond-20230713T070021Z-001\\IMG20230713105905_BURST000_COVER.xml\n",
      "Image:D:\\Bad Almond-20230713T070021Z-001\\Bad Almond\\IMG20230713105911.jpg -> Annotation:D:/Bad Almond-20230713T070021Z-001\\IMG20230713105911.xml\n",
      "Image:D:\\Bad Almond-20230713T070021Z-001\\Bad Almond\\IMG20230713105915.jpg -> Annotation:D:/Bad Almond-20230713T070021Z-001\\IMG20230713105915.xml\n",
      "Image:D:\\Bad Almond-20230713T070021Z-001\\Bad Almond\\IMG20230713105923.jpg -> Annotation:D:/Bad Almond-20230713T070021Z-001\\IMG20230713105923.xml\n",
      "Image:D:\\Bad Almond-20230713T070021Z-001\\Bad Almond\\IMG20230713105931.jpg -> Annotation:D:/Bad Almond-20230713T070021Z-001\\IMG20230713105931.xml\n",
      "Image:D:\\Bad Almond-20230713T070021Z-001\\Bad Almond\\IMG20230713105934.jpg -> Annotation:D:/Bad Almond-20230713T070021Z-001\\IMG20230713105934.xml\n",
      "Image:D:\\Bad Almond-20230713T070021Z-001\\Bad Almond\\IMG20230713105941.jpg -> Annotation:D:/Bad Almond-20230713T070021Z-001\\IMG20230713105941.xml\n",
      "Image:D:\\Bad Almond-20230713T070021Z-001\\Bad Almond\\IMG20230713105944.jpg -> Annotation:D:/Bad Almond-20230713T070021Z-001\\IMG20230713105944.xml\n",
      "Image:D:\\Bad Almond-20230713T070021Z-001\\Bad Almond\\IMG20230713105947.jpg -> Annotation:D:/Bad Almond-20230713T070021Z-001\\IMG20230713105947.xml\n",
      "Image:D:\\Bad Almond-20230713T070021Z-001\\Bad Almond\\IMG20230713105949.jpg -> Annotation:D:/Bad Almond-20230713T070021Z-001\\IMG20230713105949.xml\n",
      "Image:D:\\Bad Almond-20230713T070021Z-001\\Bad Almond\\IMG20230713105952.jpg -> Annotation:D:/Bad Almond-20230713T070021Z-001\\IMG20230713105952.xml\n",
      "Image:D:\\Bad Almond-20230713T070021Z-001\\Bad Almond\\IMG20230713105954.jpg -> Annotation:D:/Bad Almond-20230713T070021Z-001\\IMG20230713105954.xml\n",
      "Image:D:\\Bad Almond-20230713T070021Z-001\\Bad Almond\\IMG20230713110009.jpg -> Annotation:D:/Bad Almond-20230713T070021Z-001\\IMG20230713110009.xml\n",
      "Image:D:\\Bad Almond-20230713T070021Z-001\\Bad Almond\\IMG20230713110014.jpg -> Annotation:D:/Bad Almond-20230713T070021Z-001\\IMG20230713110014.xml\n",
      "Image:D:\\Bad Almond-20230713T070021Z-001\\Bad Almond\\IMG20230713110016.jpg -> Annotation:D:/Bad Almond-20230713T070021Z-001\\IMG20230713110016.xml\n",
      "Image:D:\\Bad Almond-20230713T070021Z-001\\Bad Almond\\IMG20230713110021.jpg -> Annotation:D:/Bad Almond-20230713T070021Z-001\\IMG20230713110021.xml\n",
      "Image:D:\\Bad Almond-20230713T070021Z-001\\Bad Almond\\IMG20230713110025.jpg -> Annotation:D:/Bad Almond-20230713T070021Z-001\\IMG20230713110025.xml\n",
      "Image:D:\\Bad Almond-20230713T070021Z-001\\Bad Almond\\IMG20230713110033.jpg -> Annotation:D:/Bad Almond-20230713T070021Z-001\\IMG20230713110033.xml\n",
      "Image:D:\\Bad Almond-20230713T070021Z-001\\Bad Almond\\IMG20230713110036.jpg -> Annotation:D:/Bad Almond-20230713T070021Z-001\\IMG20230713110036.xml\n",
      "Image:D:\\Bad Almond-20230713T070021Z-001\\Bad Almond\\IMG20230713110045.jpg -> Annotation:D:/Bad Almond-20230713T070021Z-001\\IMG20230713110045.xml\n"
     ]
    }
   ],
   "source": [
    "!cd {LABELIMG_PATH} && python labelImg.py"
   ]
  },
  {
   "cell_type": "markdown",
   "metadata": {},
   "source": [
    "# 6. Move them into a Training and Testing Partition"
   ]
  },
  {
   "cell_type": "markdown",
   "metadata": {},
   "source": [
    "# OPTIONAL - 7. Compress them for Colab Training"
   ]
  },
  {
   "cell_type": "code",
   "execution_count": 3,
   "metadata": {},
   "outputs": [],
   "source": [
    "TRAIN_PATH = os.path.join('Tensorflow', 'workspace', 'images', 'train')\n",
    "TEST_PATH = os.path.join('Tensorflow', 'workspace', 'images', 'test')\n",
    "ARCHIVE_PATH = os.path.join('Tensorflow', 'workspace', 'images', 'archive.tar.gz')"
   ]
  },
  {
   "cell_type": "code",
   "execution_count": 4,
   "metadata": {},
   "outputs": [],
   "source": [
    "!tar -czf {ARCHIVE_PATH} {TRAIN_PATH} {TEST_PATH}"
   ]
  },
  {
   "cell_type": "code",
   "execution_count": null,
   "metadata": {},
   "outputs": [],
   "source": []
  }
 ],
 "metadata": {
  "kernelspec": {
   "display_name": "Python 3 (ipykernel)",
   "language": "python",
   "name": "python3"
  },
  "language_info": {
   "codemirror_mode": {
    "name": "ipython",
    "version": 3
   },
   "file_extension": ".py",
   "mimetype": "text/x-python",
   "name": "python",
   "nbconvert_exporter": "python",
   "pygments_lexer": "ipython3",
   "version": "3.10.9"
  }
 },
 "nbformat": 4,
 "nbformat_minor": 2
}
